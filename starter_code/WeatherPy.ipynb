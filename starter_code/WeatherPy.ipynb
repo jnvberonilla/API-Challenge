{
 "cells": [
  {
   "cell_type": "markdown",
   "metadata": {},
   "source": [
    "# WeatherPy\n",
    "----\n",
    "\n",
    "#### Note\n",
    "* Instructions have been included for each segment. You do not have to follow them exactly, but they are included to help you think through the steps."
   ]
  },
  {
   "cell_type": "code",
   "execution_count": 53,
   "metadata": {
    "scrolled": true
   },
   "outputs": [],
   "source": [
    "# Dependencies and Setup\n",
    "import matplotlib.pyplot as plt\n",
    "import pandas as pd\n",
    "import numpy as np\n",
    "import requests\n",
    "import time\n",
    "from scipy.stats import linregress\n",
    "import json\n",
    "\n",
    "# Import API key\n",
    "from api_keys import weather_api_key\n",
    "\n",
    "# Incorporated citipy to determine city based on latitude and longitude\n",
    "from citipy import citipy\n",
    "\n",
    "# Output File (CSV)\n",
    "output_data_file = \"output_data/cities.csv\"\n",
    "\n",
    "# Range of latitudes and longitudes\n",
    "lat_range = (-90, 90)\n",
    "lng_range = (-180, 180)"
   ]
  },
  {
   "cell_type": "markdown",
   "metadata": {},
   "source": [
    "## Generate Cities List"
   ]
  },
  {
   "cell_type": "code",
   "execution_count": 54,
   "metadata": {},
   "outputs": [
    {
     "data": {
      "text/plain": [
       "640"
      ]
     },
     "execution_count": 54,
     "metadata": {},
     "output_type": "execute_result"
    }
   ],
   "source": [
    "# List for holding lat_lngs and cities\n",
    "lat_lngs = []\n",
    "cities = []\n",
    "\n",
    "# Create a set of random lat and lng combinations\n",
    "lats = np.random.uniform(low=-90.000, high=90.000, size=1500)\n",
    "lngs = np.random.uniform(low=-180.000, high=180.000, size=1500)\n",
    "lat_lngs = zip(lats, lngs)\n",
    "\n",
    "# Identify nearest city for each lat, lng combination\n",
    "for lat_lng in lat_lngs:\n",
    "    city = citipy.nearest_city(lat_lng[0], lat_lng[1]).city_name\n",
    "    \n",
    "    # If the city is unique, then add it to a our cities list\n",
    "    if city not in cities:\n",
    "        cities.append(city)\n",
    "\n",
    "# Print the city count to confirm sufficient count\n",
    "len(cities)"
   ]
  },
  {
   "cell_type": "markdown",
   "metadata": {},
   "source": [
    "### Perform API Calls\n",
    "* Perform a weather check on each city using a series of successive API calls.\n",
    "* Include a print log of each city as it'sbeing processed (with the city number and city name).\n"
   ]
  },
  {
   "cell_type": "code",
   "execution_count": 55,
   "metadata": {},
   "outputs": [],
   "source": [
    "base_url = \"http://api.openweathermap.org/data/2.5/weather?units=Imperial\"\n",
    "weather_api_key = \"3305fda4f9a924a039acaaf1690f3ac2\"\n",
    "query_url = base_url + \"&appid=\" + weather_api_key + \"&q=\"\n",
    "\n",
    "#print(query_url)\n",
    "\n",
    "city_name = []\n",
    "cloudiness = []\n",
    "country = []\n",
    "date = []\n",
    "humidity = []\n",
    "lat = []\n",
    "lng = []\n",
    "max_temp = []\n",
    "wind_speed = []\n",
    "\n",
    "record = 1"
   ]
  },
  {
   "cell_type": "code",
   "execution_count": 56,
   "metadata": {},
   "outputs": [
    {
     "name": "stdout",
     "output_type": "stream",
     "text": [
      "Beginning Data Retrieval\n",
      "-----------------------------\n",
      "Processing Record 1 | port alfred\n",
      "Processing Record 2 | otane\n",
      "Processing Record 3 | rocha\n",
      "Processing Record 4 | mataura\n",
      "Processing Record 5 | hermanus\n",
      "Processing Record 6 | ancud\n",
      "Processing Record 7 | kaitangata\n",
      "Processing Record 8 | ferme-neuve\n",
      "Processing Record 9 | busselton\n",
      "Processing Record 10 | alofi\n",
      "Processing Record 11 | butaritari\n",
      "Processing Record 12 | shelburne\n",
      "Processing Record 13 | batagay\n",
      "Processing Record 14 | kenai\n",
      "Processing Record 15 | sitka\n",
      "City not found. Skipping...\n",
      "Processing Record 16 | sao filipe\n",
      "Processing Record 17 | pevek\n",
      "Processing Record 18 | faanui\n",
      "Processing Record 19 | port hedland\n",
      "Processing Record 20 | cape town\n",
      "Processing Record 21 | bethanien\n",
      "City not found. Skipping...\n",
      "Processing Record 22 | east london\n",
      "Processing Record 23 | ushuaia\n",
      "Processing Record 24 | salalah\n",
      "Processing Record 25 | mendeleyevo\n",
      "Processing Record 26 | carnarvon\n",
      "Processing Record 27 | umm lajj\n",
      "Processing Record 28 | kontagora\n",
      "Processing Record 29 | pacific grove\n",
      "Processing Record 30 | hays\n",
      "Processing Record 31 | alta floresta\n",
      "Processing Record 32 | esperance\n",
      "Processing Record 33 | salym\n",
      "Processing Record 34 | nyimba\n",
      "Processing Record 35 | sakakah\n",
      "Processing Record 36 | bambous virieux\n",
      "Processing Record 37 | rikitea\n",
      "Processing Record 38 | punta arenas\n",
      "Processing Record 39 | mao\n",
      "Processing Record 40 | vaini\n",
      "Processing Record 41 | demba\n",
      "Processing Record 42 | manyana\n",
      "Processing Record 43 | kawalu\n",
      "Processing Record 44 | san cristobal\n",
      "Processing Record 45 | yellowknife\n",
      "Processing Record 46 | nikolskoye\n",
      "Processing Record 47 | yar-sale\n",
      "Processing Record 48 | tual\n",
      "Processing Record 49 | kapaa\n",
      "Processing Record 50 | roald\n",
      "Processing Record 51 | atuona\n",
      "Processing Record 52 | semporna\n",
      "Processing Record 53 | san jeronimo\n",
      "City not found. Skipping...\n",
      "Processing Record 54 | plouzane\n",
      "Processing Record 55 | la ronge\n",
      "Processing Record 56 | vostok\n",
      "Processing Record 57 | grindavik\n",
      "Processing Record 58 | tukrah\n",
      "Processing Record 59 | jamestown\n",
      "Processing Record 60 | castro\n",
      "Processing Record 61 | namibe\n",
      "City not found. Skipping...\n",
      "Processing Record 62 | preobrazheniye\n",
      "Processing Record 63 | tuktoyaktuk\n",
      "Processing Record 64 | sovetskiy\n",
      "Processing Record 65 | hilo\n",
      "Processing Record 66 | camopi\n",
      "City not found. Skipping...\n",
      "Processing Record 67 | saint paul\n",
      "Processing Record 68 | hobart\n",
      "Processing Record 69 | barrow\n",
      "Processing Record 70 | erzin\n",
      "Processing Record 71 | portland\n",
      "Processing Record 72 | montepuez\n",
      "Processing Record 73 | chokurdakh\n",
      "Processing Record 74 | summerville\n",
      "Processing Record 75 | am timan\n",
      "Processing Record 76 | bluff\n",
      "Processing Record 77 | podbrdo\n",
      "Processing Record 78 | talcahuano\n",
      "City not found. Skipping...\n",
      "Processing Record 79 | ilulissat\n",
      "Processing Record 80 | neiafu\n",
      "Processing Record 81 | nantucket\n",
      "City not found. Skipping...\n",
      "Processing Record 82 | lebu\n",
      "Processing Record 83 | bredasdorp\n",
      "Processing Record 84 | nanortalik\n",
      "City not found. Skipping...\n",
      "Processing Record 85 | san patricio\n",
      "Processing Record 86 | arraial do cabo\n",
      "Processing Record 87 | severo-kurilsk\n",
      "Processing Record 88 | shaowu\n",
      "City not found. Skipping...\n",
      "Processing Record 89 | rundu\n",
      "Processing Record 90 | georgetown\n",
      "City not found. Skipping...\n",
      "Processing Record 91 | faya\n",
      "Processing Record 92 | ambilobe\n",
      "Processing Record 93 | ketchikan\n",
      "Processing Record 94 | ribeira grande\n",
      "Processing Record 95 | saldanha\n",
      "Processing Record 96 | mandera\n",
      "Processing Record 97 | cidreira\n",
      "Processing Record 98 | ruidoso\n",
      "Processing Record 99 | kalawit\n",
      "Processing Record 100 | conceicao do coite\n",
      "Processing Record 101 | albany\n",
      "Processing Record 102 | avarua\n",
      "City not found. Skipping...\n",
      "Processing Record 103 | bayji\n",
      "Processing Record 104 | berlevag\n",
      "Processing Record 105 | san joaquin\n",
      "Processing Record 106 | piacabucu\n",
      "Processing Record 107 | wana\n",
      "Processing Record 108 | shushenskoye\n",
      "Processing Record 109 | mahebourg\n",
      "Processing Record 110 | terrace\n",
      "Processing Record 111 | talnakh\n",
      "Processing Record 112 | deputatskiy\n",
      "Processing Record 113 | clyde river\n",
      "City not found. Skipping...\n",
      "Processing Record 114 | great falls\n",
      "Processing Record 115 | tiksi\n",
      "Processing Record 116 | qaanaaq\n",
      "Processing Record 117 | lagoa\n",
      "Processing Record 118 | naze\n",
      "Processing Record 119 | yangshan\n",
      "Processing Record 120 | kavieng\n",
      "Processing Record 121 | dalbandin\n",
      "Processing Record 122 | emporia\n",
      "Processing Record 123 | korla\n",
      "City not found. Skipping...\n",
      "Processing Record 124 | chadan\n",
      "Processing Record 125 | mweka\n",
      "Processing Record 126 | leh\n",
      "Processing Record 127 | zhangjiakou\n",
      "Processing Record 128 | adrar\n",
      "Processing Record 129 | niimi\n",
      "Processing Record 130 | dikson\n",
      "Processing Record 131 | iskateley\n",
      "Processing Record 132 | coulommiers\n",
      "Processing Record 133 | iquitos\n",
      "City not found. Skipping...\n",
      "Processing Record 134 | port lincoln\n",
      "Processing Record 135 | caraz\n",
      "City not found. Skipping...\n",
      "Processing Record 136 | norman wells\n",
      "Processing Record 137 | high rock\n",
      "Processing Record 138 | nuuk\n",
      "Processing Record 139 | los llanos de aridane\n",
      "Processing Record 140 | bonthe\n",
      "Processing Record 141 | qui nhon\n",
      "City not found. Skipping...\n",
      "Processing Record 142 | atbasar\n",
      "Processing Record 143 | puerto ayora\n",
      "City not found. Skipping...\n",
      "Processing Record 144 | victoria\n",
      "Processing Record 145 | sambava\n",
      "Processing Record 146 | salair\n",
      "Processing Record 147 | bonfim\n",
      "Processing Record 148 | opuwo\n",
      "Processing Record 149 | mae sai\n",
      "Processing Record 150 | zvishavane\n",
      "Processing Record 151 | kodiak\n",
      "Processing Record 152 | yanji\n",
      "Processing Record 153 | luderitz\n",
      "Processing Record 154 | tasiilaq\n",
      "Processing Record 155 | chapais\n",
      "Processing Record 156 | porto novo\n",
      "Processing Record 157 | vila velha\n",
      "Processing Record 158 | gamba\n",
      "Processing Record 159 | tabuk\n",
      "Processing Record 160 | bishop auckland\n",
      "Processing Record 161 | morelia\n",
      "Processing Record 162 | jatibarang\n",
      "Processing Record 163 | hervey bay\n",
      "Processing Record 164 | hithadhoo\n",
      "City not found. Skipping...\n",
      "Processing Record 165 | guerrero negro\n",
      "Processing Record 166 | padang\n",
      "Processing Record 167 | laredo\n",
      "Processing Record 168 | manta\n",
      "City not found. Skipping...\n",
      "Processing Record 169 | saint-philippe\n",
      "Processing Record 170 | gushikawa\n",
      "Processing Record 171 | matay\n",
      "Processing Record 172 | sayyan\n",
      "Processing Record 173 | cherskiy\n",
      "Processing Record 174 | mogzon\n",
      "Processing Record 175 | najran\n",
      "Processing Record 176 | lorengau\n",
      "Processing Record 177 | nizhniy tsasuchey\n",
      "Processing Record 178 | collie\n",
      "Processing Record 179 | makakilo city\n",
      "City not found. Skipping...\n",
      "Processing Record 180 | thinadhoo\n",
      "Processing Record 181 | hamilton\n",
      "Processing Record 182 | palmer\n",
      "Processing Record 183 | sao joao da barra\n",
      "Processing Record 184 | gizo\n",
      "Processing Record 185 | shihezi\n",
      "Processing Record 186 | brus\n",
      "Processing Record 187 | kankon\n",
      "Processing Record 188 | saskylakh\n",
      "Processing Record 189 | cuautepec\n",
      "City not found. Skipping...\n",
      "Processing Record 190 | labuhan\n",
      "Processing Record 191 | zavallya\n",
      "Processing Record 192 | andenes\n",
      "Processing Record 193 | jacmel\n",
      "Processing Record 194 | kazanskoye\n",
      "Processing Record 195 | kununurra\n",
      "Processing Record 196 | baarn\n",
      "Processing Record 197 | saint george\n",
      "Processing Record 198 | fairbanks\n",
      "Processing Record 199 | broome\n",
      "Processing Record 200 | nome\n",
      "Processing Record 201 | waingapu\n",
      "City not found. Skipping...\n",
      "Processing Record 202 | lata\n",
      "Processing Record 203 | mayo\n",
      "Processing Record 204 | beisfjord\n",
      "Processing Record 205 | new norfolk\n",
      "Processing Record 206 | araouane\n",
      "Processing Record 207 | kidal\n",
      "Processing Record 208 | touros\n",
      "Processing Record 209 | khani\n",
      "Processing Record 210 | flin flon\n",
      "City not found. Skipping...\n",
      "Processing Record 211 | bosaso\n",
      "Processing Record 212 | samarai\n",
      "Processing Record 213 | oxbow\n",
      "Processing Record 214 | pathein\n",
      "Processing Record 215 | urgut\n",
      "Processing Record 216 | ferrol\n",
      "Processing Record 217 | luanda\n",
      "Processing Record 218 | codrington\n",
      "Processing Record 219 | opatija\n",
      "Processing Record 220 | ikot ekpene\n",
      "Processing Record 221 | ponta do sol\n",
      "Processing Record 222 | vestmannaeyjar\n",
      "Processing Record 223 | bethel\n",
      "Processing Record 224 | yanam\n",
      "Processing Record 225 | bara\n",
      "Processing Record 226 | narsaq\n",
      "Processing Record 227 | lodja\n",
      "Processing Record 228 | kedrovyy\n",
      "Processing Record 229 | sioux lookout\n",
      "Processing Record 230 | hay river\n",
      "Processing Record 231 | zalantun\n"
     ]
    },
    {
     "name": "stdout",
     "output_type": "stream",
     "text": [
      "Processing Record 232 | kyra\n",
      "Processing Record 233 | xuddur\n",
      "Processing Record 234 | airai\n",
      "Processing Record 235 | neuquen\n",
      "Processing Record 236 | oranjemund\n",
      "Processing Record 237 | olinda\n",
      "Processing Record 238 | north platte\n",
      "Processing Record 239 | olafsvik\n",
      "Processing Record 240 | polis\n",
      "City not found. Skipping...\n",
      "Processing Record 241 | hasaki\n",
      "Processing Record 242 | havre-saint-pierre\n",
      "Processing Record 243 | bathsheba\n",
      "Processing Record 244 | sinnamary\n",
      "Processing Record 245 | taboga\n",
      "Processing Record 246 | worland\n",
      "Processing Record 247 | calbuco\n",
      "Processing Record 248 | sandpoint\n",
      "Processing Record 249 | esso\n",
      "Processing Record 250 | atherton\n",
      "Processing Record 251 | hadejia\n",
      "City not found. Skipping...\n",
      "Processing Record 252 | visby\n",
      "Processing Record 253 | barreirinhas\n",
      "Processing Record 254 | yambio\n",
      "Processing Record 255 | honningsvag\n",
      "Processing Record 256 | lavumisa\n",
      "Processing Record 257 | katsuura\n",
      "Processing Record 258 | kahului\n",
      "Processing Record 259 | komsomolskiy\n",
      "Processing Record 260 | kynashiv\n",
      "Processing Record 261 | victoria point\n",
      "Processing Record 262 | khatanga\n",
      "Processing Record 263 | raudeberg\n",
      "Processing Record 264 | homer\n",
      "City not found. Skipping...\n",
      "Processing Record 265 | kapit\n",
      "Processing Record 266 | husavik\n",
      "Processing Record 267 | north vernon\n",
      "Processing Record 268 | bombay\n",
      "Processing Record 269 | longyearbyen\n",
      "City not found. Skipping...\n",
      "City not found. Skipping...\n",
      "Processing Record 270 | sukabumi\n",
      "City not found. Skipping...\n",
      "Processing Record 271 | nouadhibou\n",
      "Processing Record 272 | dakar\n",
      "Processing Record 273 | chuy\n",
      "Processing Record 274 | paamiut\n",
      "Processing Record 275 | poco verde\n",
      "Processing Record 276 | te anau\n",
      "Processing Record 277 | bijie\n",
      "City not found. Skipping...\n",
      "Processing Record 278 | terme\n",
      "Processing Record 279 | tessalit\n",
      "Processing Record 280 | myitkyina\n",
      "Processing Record 281 | sibu\n",
      "Processing Record 282 | guamuchil\n",
      "Processing Record 283 | tuatapere\n",
      "Processing Record 284 | leningradskiy\n",
      "Processing Record 285 | mersing\n",
      "Processing Record 286 | jiaocheng\n",
      "Processing Record 287 | klaksvik\n",
      "Processing Record 288 | college\n",
      "Processing Record 289 | andradina\n",
      "Processing Record 290 | tura\n",
      "City not found. Skipping...\n",
      "City not found. Skipping...\n",
      "Processing Record 291 | verkhnyaya toyma\n",
      "City not found. Skipping...\n",
      "Processing Record 292 | port blair\n",
      "Processing Record 293 | alekseyevsk\n",
      "Processing Record 294 | vanimo\n",
      "Processing Record 295 | valparaiso\n",
      "Processing Record 296 | maple creek\n",
      "Processing Record 297 | verkhnyaya inta\n",
      "Processing Record 298 | ovalle\n",
      "Processing Record 299 | mahanoro\n",
      "Processing Record 300 | mitu\n",
      "Processing Record 301 | imbituba\n",
      "Processing Record 302 | dingle\n",
      "City not found. Skipping...\n",
      "Processing Record 303 | mar del plata\n",
      "Processing Record 304 | itaituba\n",
      "City not found. Skipping...\n",
      "Processing Record 305 | kazerun\n",
      "Processing Record 306 | nong phai\n",
      "Processing Record 307 | immokalee\n",
      "Processing Record 308 | ambon\n",
      "Processing Record 309 | sistranda\n",
      "Processing Record 310 | iqaluit\n",
      "Processing Record 311 | stonewall\n",
      "Processing Record 312 | jalu\n",
      "Processing Record 313 | gat\n",
      "Processing Record 314 | high level\n",
      "Processing Record 315 | puerto palomas\n",
      "Processing Record 316 | kaeo\n",
      "Processing Record 317 | rio grande\n",
      "Processing Record 318 | marshall\n",
      "Processing Record 319 | ajaccio\n",
      "Processing Record 320 | lota\n",
      "Processing Record 321 | ganganagar\n",
      "Processing Record 322 | sao felix do xingu\n",
      "Processing Record 323 | nipawin\n",
      "Processing Record 324 | menziken\n",
      "Processing Record 325 | alice springs\n",
      "Processing Record 326 | aksu\n",
      "Processing Record 327 | bigaa\n",
      "Processing Record 328 | liberal\n",
      "Processing Record 329 | port elizabeth\n",
      "Processing Record 330 | esna\n",
      "Processing Record 331 | lompoc\n",
      "Processing Record 332 | vallenar\n",
      "Processing Record 333 | pimentel\n",
      "Processing Record 334 | tuy hoa\n",
      "Processing Record 335 | zapolyarnyy\n",
      "Processing Record 336 | yenagoa\n",
      "Processing Record 337 | marzuq\n",
      "Processing Record 338 | geraldton\n",
      "Processing Record 339 | fortuna\n",
      "Processing Record 340 | aklavik\n",
      "Processing Record 341 | chicama\n",
      "City not found. Skipping...\n",
      "Processing Record 342 | parfino\n",
      "Processing Record 343 | aleksandro-nevskiy\n",
      "Processing Record 344 | marapanim\n",
      "Processing Record 345 | kabare\n",
      "Processing Record 346 | artyom\n",
      "Processing Record 347 | mehamn\n",
      "Processing Record 348 | skara\n",
      "Processing Record 349 | flinders\n",
      "Processing Record 350 | yokadouma\n",
      "Processing Record 351 | banjar\n",
      "Processing Record 352 | asau\n",
      "City not found. Skipping...\n",
      "Processing Record 353 | hambantota\n",
      "Processing Record 354 | leshukonskoye\n",
      "Processing Record 355 | kruisfontein\n",
      "Processing Record 356 | mareeba\n",
      "Processing Record 357 | san policarpo\n",
      "Processing Record 358 | umm kaddadah\n",
      "Processing Record 359 | namatanai\n",
      "Processing Record 360 | celestun\n",
      "Processing Record 361 | mtwara\n",
      "Processing Record 362 | benemerito de las americas\n",
      "Processing Record 363 | uvat\n",
      "Processing Record 364 | syracuse\n",
      "Processing Record 365 | middlebury\n",
      "Processing Record 366 | wanning\n",
      "Processing Record 367 | kitui\n",
      "Processing Record 368 | vardo\n",
      "Processing Record 369 | klyuchi\n",
      "Processing Record 370 | mangulile\n",
      "Processing Record 371 | ostrovnoy\n",
      "Processing Record 372 | ginda\n",
      "City not found. Skipping...\n",
      "Processing Record 373 | udachnyy\n",
      "Processing Record 374 | maryville\n",
      "Processing Record 375 | sebastian\n",
      "Processing Record 376 | indian head\n",
      "Processing Record 377 | abalak\n",
      "Processing Record 378 | ajdabiya\n",
      "Processing Record 379 | verkh-usugli\n",
      "Processing Record 380 | krasnyy chikoy\n",
      "Processing Record 381 | amga\n",
      "Processing Record 382 | hami\n",
      "Processing Record 383 | necochea\n",
      "City not found. Skipping...\n",
      "Processing Record 384 | kormilovka\n",
      "Processing Record 385 | kavaratti\n",
      "Processing Record 386 | hofn\n",
      "Processing Record 387 | toropets\n",
      "Processing Record 388 | samana\n",
      "Processing Record 389 | sozimskiy\n",
      "Processing Record 390 | rio cuarto\n",
      "City not found. Skipping...\n",
      "Processing Record 391 | angoche\n",
      "Processing Record 392 | mayumba\n",
      "Processing Record 393 | goderich\n",
      "Processing Record 394 | matara\n",
      "Processing Record 395 | kultuk\n",
      "Processing Record 396 | vredendal\n",
      "Processing Record 397 | goundam\n",
      "Processing Record 398 | washington\n",
      "Processing Record 399 | qianan\n",
      "Processing Record 400 | teguldet\n",
      "Processing Record 401 | thompson\n",
      "Processing Record 402 | lukulu\n",
      "Processing Record 403 | winslow\n",
      "Processing Record 404 | cordoba\n",
      "Processing Record 405 | polunochnoye\n",
      "Processing Record 406 | qaqortoq\n",
      "Processing Record 407 | hokitika\n",
      "Processing Record 408 | sarandi\n",
      "Processing Record 409 | pisco\n",
      "Processing Record 410 | constitucion\n",
      "Processing Record 411 | aleksandriya\n",
      "Processing Record 412 | howard springs\n",
      "Processing Record 413 | saint-augustin\n",
      "Processing Record 414 | salinopolis\n",
      "City not found. Skipping...\n",
      "Processing Record 415 | synya\n",
      "Processing Record 416 | obo\n",
      "Processing Record 417 | betsiamites\n",
      "Processing Record 418 | omsukchan\n",
      "Processing Record 419 | laguna\n",
      "City not found. Skipping...\n",
      "Processing Record 420 | sovetskaya gavan\n",
      "Processing Record 421 | broken hill\n",
      "City not found. Skipping...\n",
      "Processing Record 422 | bangassou\n",
      "Processing Record 423 | bar harbor\n",
      "Processing Record 424 | toora-khem\n",
      "Processing Record 425 | pergamino\n",
      "Processing Record 426 | west fargo\n",
      "Processing Record 427 | kovur\n",
      "Processing Record 428 | srednekolymsk\n",
      "Processing Record 429 | ocos\n",
      "Processing Record 430 | the valley\n",
      "Processing Record 431 | byron bay\n",
      "Processing Record 432 | kitimat\n",
      "City not found. Skipping...\n",
      "Processing Record 433 | vuktyl\n",
      "Processing Record 434 | pacasmayo\n",
      "Processing Record 435 | pangnirtung\n",
      "Processing Record 436 | alexandria\n",
      "Processing Record 437 | arlit\n",
      "City not found. Skipping...\n",
      "Processing Record 438 | miyako\n",
      "Processing Record 439 | kalaleh\n",
      "Processing Record 440 | saint-francois\n",
      "Processing Record 441 | onega\n",
      "Processing Record 442 | karacabey\n",
      "Processing Record 443 | vytegra\n",
      "Processing Record 444 | manaure\n",
      "Processing Record 445 | gravdal\n",
      "Processing Record 446 | llanes\n",
      "Processing Record 447 | ulladulla\n",
      "Processing Record 448 | baruun-urt\n",
      "Processing Record 449 | khandyga\n",
      "Processing Record 450 | meulaboh\n",
      "Processing Record 451 | berriozabal\n",
      "Processing Record 452 | cabatuan\n",
      "Processing Record 453 | yining\n",
      "Processing Record 454 | caravelas\n",
      "Processing Record 455 | taunggyi\n",
      "Processing Record 456 | bengkulu\n",
      "Processing Record 457 | beringovskiy\n",
      "Processing Record 458 | evensk\n",
      "Processing Record 459 | eston\n"
     ]
    },
    {
     "name": "stdout",
     "output_type": "stream",
     "text": [
      "Processing Record 460 | cascas\n",
      "City not found. Skipping...\n",
      "Processing Record 461 | bandarbeyla\n",
      "Processing Record 462 | san rafael\n",
      "Processing Record 463 | erenhot\n",
      "City not found. Skipping...\n",
      "Processing Record 464 | cayenne\n",
      "Processing Record 465 | hoi an\n",
      "Processing Record 466 | surt\n",
      "Processing Record 467 | belaya gora\n",
      "Processing Record 468 | fukuma\n",
      "Processing Record 469 | valdivia\n",
      "City not found. Skipping...\n",
      "Processing Record 470 | xiamen\n",
      "Processing Record 471 | lesnoy\n",
      "Processing Record 472 | rawson\n",
      "Processing Record 473 | ulaangom\n",
      "Processing Record 474 | weymouth\n",
      "City not found. Skipping...\n",
      "Processing Record 475 | saint anthony\n",
      "Processing Record 476 | kampot\n",
      "Processing Record 477 | aitape\n",
      "Processing Record 478 | sorong\n",
      "Processing Record 479 | libreville\n",
      "Processing Record 480 | armidale\n",
      "Processing Record 481 | wagar\n",
      "Processing Record 482 | krasnoselkup\n",
      "Processing Record 483 | eureka\n",
      "Processing Record 484 | tarabuco\n",
      "Processing Record 485 | juba\n",
      "Processing Record 486 | pinheiro\n",
      "Processing Record 487 | smalininkai\n",
      "Processing Record 488 | santa isabel do rio negro\n",
      "Processing Record 489 | torbay\n",
      "Processing Record 490 | okha\n",
      "Processing Record 491 | gao\n",
      "Processing Record 492 | severnoye\n",
      "City not found. Skipping...\n",
      "Processing Record 493 | takoradi\n",
      "Processing Record 494 | nyanguge\n",
      "Processing Record 495 | lerwick\n",
      "Processing Record 496 | nyurba\n",
      "Processing Record 497 | vitim\n",
      "Processing Record 498 | yatou\n",
      "Processing Record 499 | derbent\n",
      "City not found. Skipping...\n",
      "Processing Record 500 | tambura\n",
      "Processing Record 501 | mongo\n",
      "Processing Record 502 | sur\n",
      "Processing Record 503 | eyl\n",
      "Processing Record 504 | bhuban\n",
      "Processing Record 505 | pingyi\n",
      "Processing Record 506 | kharar\n",
      "Processing Record 507 | newport\n",
      "Processing Record 508 | catio\n",
      "Processing Record 509 | fray bentos\n",
      "Processing Record 510 | porto velho\n",
      "Processing Record 511 | palu\n",
      "Processing Record 512 | logan\n",
      "Processing Record 513 | hobyo\n",
      "Processing Record 514 | dolores\n",
      "Processing Record 515 | maragogi\n",
      "Processing Record 516 | tezu\n",
      "Processing Record 517 | muros\n",
      "Processing Record 518 | sisimiut\n",
      "Processing Record 519 | manzhouli\n",
      "Processing Record 520 | ruteng\n",
      "Processing Record 521 | skibbereen\n",
      "Processing Record 522 | greenville\n",
      "Processing Record 523 | antalaha\n",
      "Processing Record 524 | marquard\n",
      "Processing Record 525 | vao\n",
      "Processing Record 526 | inirida\n",
      "Processing Record 527 | provideniya\n",
      "Processing Record 528 | lermontovka\n",
      "Processing Record 529 | gondanglegi\n",
      "Processing Record 530 | kemijarvi\n",
      "Processing Record 531 | richards bay\n",
      "Processing Record 532 | strezhevoy\n",
      "Processing Record 533 | el seibo\n",
      "Processing Record 534 | selizharovo\n",
      "Processing Record 535 | douentza\n",
      "Processing Record 536 | kutum\n",
      "City not found. Skipping...\n",
      "Processing Record 537 | piterka\n",
      "City not found. Skipping...\n",
      "Processing Record 538 | turukhansk\n",
      "Processing Record 539 | paidha\n",
      "City not found. Skipping...\n",
      "Processing Record 540 | rackeresztur\n",
      "Processing Record 541 | oranjestad\n",
      "Processing Record 542 | petropavlovsk-kamchatskiy\n",
      "Processing Record 543 | okhotsk\n",
      "Processing Record 544 | tiarei\n",
      "City not found. Skipping...\n",
      "Processing Record 545 | mackay\n",
      "Processing Record 546 | bhag\n",
      "Processing Record 547 | eydhafushi\n",
      "Processing Record 548 | lima\n",
      "Processing Record 549 | cabedelo\n",
      "Processing Record 550 | grand gaube\n",
      "Processing Record 551 | aqtobe\n",
      "Processing Record 552 | katherine\n",
      "Processing Record 553 | hamada\n",
      "Processing Record 554 | mahajanga\n",
      "Processing Record 555 | cheremukhovo\n",
      "Processing Record 556 | tromso\n",
      "Processing Record 557 | tucupita\n",
      "Processing Record 558 | quatre cocos\n",
      "Processing Record 559 | kyshtovka\n",
      "Processing Record 560 | morgan city\n",
      "Processing Record 561 | damietta\n",
      "Processing Record 562 | ceres\n",
      "City not found. Skipping...\n",
      "City not found. Skipping...\n",
      "Processing Record 563 | kiama\n",
      "Processing Record 564 | poum\n",
      "Processing Record 565 | souillac\n",
      "City not found. Skipping...\n",
      "Processing Record 566 | shache\n",
      "Processing Record 567 | henties bay\n",
      "Processing Record 568 | vila franca do campo\n",
      "Processing Record 569 | clarksdale\n",
      "Processing Record 570 | palora\n",
      "Processing Record 571 | wajima\n",
      "Processing Record 572 | dzilam gonzalez\n",
      "Processing Record 573 | ust-ishim\n",
      "Processing Record 574 | purranque\n",
      "Processing Record 575 | santa eulalia\n",
      "City not found. Skipping...\n",
      "Processing Record 576 | gazanjyk\n",
      "Processing Record 577 | aktau\n",
      "Processing Record 578 | cabo san lucas\n",
      "City not found. Skipping...\n",
      "Processing Record 579 | san buenaventura\n",
      "Processing Record 580 | buala\n",
      "-----------------------------\n",
      "Data Retrieval Complete\n",
      "-----------------------------\n"
     ]
    }
   ],
   "source": [
    "print(f'Beginning Data Retrieval')\n",
    "print(f'-----------------------------')\n",
    "\n",
    "for city in cities:\n",
    "    try:\n",
    "        response = requests.get(f'{query_url}{city}').json()\n",
    "        city_name.append(response[\"name\"])\n",
    "        cloudiness.append(response[\"clouds\"][\"all\"])\n",
    "        country.append(response[\"sys\"][\"country\"])\n",
    "        date.append(response[\"dt\"])\n",
    "        humidity.append(response[\"main\"][\"humidity\"])\n",
    "        lat.append(response[\"coord\"][\"lat\"])\n",
    "        lng.append(response[\"coord\"][\"lon\"])\n",
    "        max_temp.append(response[\"main\"][\"temp_max\"])\n",
    "        wind_speed.append(response[\"wind\"][\"speed\"])\n",
    "        print(f'Processing Record {record} | {city}')\n",
    "        record = record + 1\n",
    "    \n",
    "        time.sleep(1)\n",
    "        if i < 49:\n",
    "            i += 1\n",
    "        else:\n",
    "            i = 0\n",
    "            j += 1\n",
    "    except KeyError:\n",
    "        print(\"City not found. Skipping...\")\n",
    "print(\"-----------------------------\"\"\\n\"\"Data Retrieval Complete\"\"\\n\"\"-----------------------------\")"
   ]
  },
  {
   "cell_type": "code",
   "execution_count": null,
   "metadata": {},
   "outputs": [],
   "source": []
  },
  {
   "cell_type": "code",
   "execution_count": null,
   "metadata": {},
   "outputs": [],
   "source": []
  },
  {
   "cell_type": "code",
   "execution_count": null,
   "metadata": {},
   "outputs": [],
   "source": []
  },
  {
   "cell_type": "markdown",
   "metadata": {},
   "source": [
    "### Convert Raw Data to DataFrame\n",
    "* Export the city data into a .csv.\n",
    "* Display the DataFrame"
   ]
  },
  {
   "cell_type": "code",
   "execution_count": 67,
   "metadata": {},
   "outputs": [
    {
     "data": {
      "text/html": [
       "<div>\n",
       "<style scoped>\n",
       "    .dataframe tbody tr th:only-of-type {\n",
       "        vertical-align: middle;\n",
       "    }\n",
       "\n",
       "    .dataframe tbody tr th {\n",
       "        vertical-align: top;\n",
       "    }\n",
       "\n",
       "    .dataframe thead th {\n",
       "        text-align: right;\n",
       "    }\n",
       "</style>\n",
       "<table border=\"1\" class=\"dataframe\">\n",
       "  <thead>\n",
       "    <tr style=\"text-align: right;\">\n",
       "      <th></th>\n",
       "      <th>City</th>\n",
       "      <th>Cloudiness</th>\n",
       "      <th>Country</th>\n",
       "      <th>Date</th>\n",
       "      <th>Humidity</th>\n",
       "      <th>Latitude</th>\n",
       "      <th>Longitude</th>\n",
       "      <th>Max Temperature</th>\n",
       "      <th>Wind Speed</th>\n",
       "    </tr>\n",
       "  </thead>\n",
       "  <tbody>\n",
       "    <tr>\n",
       "      <th>0</th>\n",
       "      <td>Port Alfred</td>\n",
       "      <td>100</td>\n",
       "      <td>ZA</td>\n",
       "      <td>1596664315</td>\n",
       "      <td>90</td>\n",
       "      <td>-33.59</td>\n",
       "      <td>26.89</td>\n",
       "      <td>57.22</td>\n",
       "      <td>9.93</td>\n",
       "    </tr>\n",
       "    <tr>\n",
       "      <th>1</th>\n",
       "      <td>Otane</td>\n",
       "      <td>91</td>\n",
       "      <td>NZ</td>\n",
       "      <td>1596664382</td>\n",
       "      <td>95</td>\n",
       "      <td>-39.88</td>\n",
       "      <td>176.63</td>\n",
       "      <td>46.00</td>\n",
       "      <td>1.99</td>\n",
       "    </tr>\n",
       "    <tr>\n",
       "      <th>2</th>\n",
       "      <td>Rocha</td>\n",
       "      <td>2</td>\n",
       "      <td>UY</td>\n",
       "      <td>1596664463</td>\n",
       "      <td>81</td>\n",
       "      <td>-34.48</td>\n",
       "      <td>-54.33</td>\n",
       "      <td>65.59</td>\n",
       "      <td>8.70</td>\n",
       "    </tr>\n",
       "    <tr>\n",
       "      <th>3</th>\n",
       "      <td>Mataura</td>\n",
       "      <td>100</td>\n",
       "      <td>NZ</td>\n",
       "      <td>1596664465</td>\n",
       "      <td>96</td>\n",
       "      <td>-46.19</td>\n",
       "      <td>168.86</td>\n",
       "      <td>42.01</td>\n",
       "      <td>3.71</td>\n",
       "    </tr>\n",
       "    <tr>\n",
       "      <th>4</th>\n",
       "      <td>Hermanus</td>\n",
       "      <td>35</td>\n",
       "      <td>ZA</td>\n",
       "      <td>1596664466</td>\n",
       "      <td>94</td>\n",
       "      <td>-34.42</td>\n",
       "      <td>19.23</td>\n",
       "      <td>41.00</td>\n",
       "      <td>1.01</td>\n",
       "    </tr>\n",
       "  </tbody>\n",
       "</table>\n",
       "</div>"
      ],
      "text/plain": [
       "          City  Cloudiness Country        Date  Humidity  Latitude  Longitude  \\\n",
       "0  Port Alfred         100      ZA  1596664315        90    -33.59      26.89   \n",
       "1        Otane          91      NZ  1596664382        95    -39.88     176.63   \n",
       "2        Rocha           2      UY  1596664463        81    -34.48     -54.33   \n",
       "3      Mataura         100      NZ  1596664465        96    -46.19     168.86   \n",
       "4     Hermanus          35      ZA  1596664466        94    -34.42      19.23   \n",
       "\n",
       "   Max Temperature  Wind Speed  \n",
       "0            57.22        9.93  \n",
       "1            46.00        1.99  \n",
       "2            65.59        8.70  \n",
       "3            42.01        3.71  \n",
       "4            41.00        1.01  "
      ]
     },
     "execution_count": 67,
     "metadata": {},
     "output_type": "execute_result"
    }
   ],
   "source": [
    "city_weather_df = pd.DataFrame({\"City\": city_name, \n",
    "                                \"Cloudiness\": cloudiness,\n",
    "                                \"Country\": country, \n",
    "                                \"Date\": date,\n",
    "                                \"Humidity\": humidity,\n",
    "                                \"Latitude\": lat,\n",
    "                                \"Longitude\": lng,\n",
    "                                \"Max Temperature\": max_temp,\n",
    "                                \"Wind Speed\": wind_speed})\n",
    "\n",
    "city_weather_df.head()"
   ]
  },
  {
   "cell_type": "code",
   "execution_count": 68,
   "metadata": {},
   "outputs": [],
   "source": [
    "city_weather_df.to_csv(\"city_weather.csv\")"
   ]
  },
  {
   "cell_type": "markdown",
   "metadata": {},
   "source": [
    "## Inspect the data and remove the cities where the humidity > 100%.\n",
    "----\n",
    "Skip this step if there are no cities that have humidity > 100%. "
   ]
  },
  {
   "cell_type": "code",
   "execution_count": 71,
   "metadata": {},
   "outputs": [
    {
     "data": {
      "text/html": [
       "<div>\n",
       "<style scoped>\n",
       "    .dataframe tbody tr th:only-of-type {\n",
       "        vertical-align: middle;\n",
       "    }\n",
       "\n",
       "    .dataframe tbody tr th {\n",
       "        vertical-align: top;\n",
       "    }\n",
       "\n",
       "    .dataframe thead th {\n",
       "        text-align: right;\n",
       "    }\n",
       "</style>\n",
       "<table border=\"1\" class=\"dataframe\">\n",
       "  <thead>\n",
       "    <tr style=\"text-align: right;\">\n",
       "      <th></th>\n",
       "      <th>City</th>\n",
       "      <th>Cloudiness</th>\n",
       "      <th>Country</th>\n",
       "      <th>Date</th>\n",
       "      <th>Humidity</th>\n",
       "      <th>Latitude</th>\n",
       "      <th>Longitude</th>\n",
       "      <th>Max Temperature</th>\n",
       "      <th>Wind Speed</th>\n",
       "    </tr>\n",
       "  </thead>\n",
       "  <tbody>\n",
       "    <tr>\n",
       "      <th>227</th>\n",
       "      <td>Kedrovyy</td>\n",
       "      <td>21</td>\n",
       "      <td>RU</td>\n",
       "      <td>1596664773</td>\n",
       "      <td>100</td>\n",
       "      <td>56.17</td>\n",
       "      <td>91.82</td>\n",
       "      <td>50.0</td>\n",
       "      <td>2.35</td>\n",
       "    </tr>\n",
       "    <tr>\n",
       "      <th>411</th>\n",
       "      <td>Howard Springs</td>\n",
       "      <td>20</td>\n",
       "      <td>AU</td>\n",
       "      <td>1596665010</td>\n",
       "      <td>100</td>\n",
       "      <td>-12.50</td>\n",
       "      <td>131.05</td>\n",
       "      <td>71.6</td>\n",
       "      <td>3.36</td>\n",
       "    </tr>\n",
       "    <tr>\n",
       "      <th>56</th>\n",
       "      <td>Grindavik</td>\n",
       "      <td>75</td>\n",
       "      <td>IS</td>\n",
       "      <td>1596664537</td>\n",
       "      <td>100</td>\n",
       "      <td>63.84</td>\n",
       "      <td>-22.43</td>\n",
       "      <td>48.2</td>\n",
       "      <td>14.99</td>\n",
       "    </tr>\n",
       "    <tr>\n",
       "      <th>286</th>\n",
       "      <td>Klaksvík</td>\n",
       "      <td>40</td>\n",
       "      <td>FO</td>\n",
       "      <td>1596664849</td>\n",
       "      <td>100</td>\n",
       "      <td>62.23</td>\n",
       "      <td>-6.59</td>\n",
       "      <td>51.8</td>\n",
       "      <td>11.41</td>\n",
       "    </tr>\n",
       "    <tr>\n",
       "      <th>350</th>\n",
       "      <td>Banjar</td>\n",
       "      <td>20</td>\n",
       "      <td>ID</td>\n",
       "      <td>1596664934</td>\n",
       "      <td>100</td>\n",
       "      <td>-8.19</td>\n",
       "      <td>114.97</td>\n",
       "      <td>75.2</td>\n",
       "      <td>5.82</td>\n",
       "    </tr>\n",
       "    <tr>\n",
       "      <th>...</th>\n",
       "      <td>...</td>\n",
       "      <td>...</td>\n",
       "      <td>...</td>\n",
       "      <td>...</td>\n",
       "      <td>...</td>\n",
       "      <td>...</td>\n",
       "      <td>...</td>\n",
       "      <td>...</td>\n",
       "      <td>...</td>\n",
       "    </tr>\n",
       "    <tr>\n",
       "      <th>511</th>\n",
       "      <td>Logan</td>\n",
       "      <td>1</td>\n",
       "      <td>US</td>\n",
       "      <td>1596665108</td>\n",
       "      <td>13</td>\n",
       "      <td>41.74</td>\n",
       "      <td>-111.83</td>\n",
       "      <td>98.6</td>\n",
       "      <td>8.05</td>\n",
       "    </tr>\n",
       "    <tr>\n",
       "      <th>314</th>\n",
       "      <td>Puerto Palomas</td>\n",
       "      <td>20</td>\n",
       "      <td>MX</td>\n",
       "      <td>1596664889</td>\n",
       "      <td>12</td>\n",
       "      <td>31.77</td>\n",
       "      <td>-107.62</td>\n",
       "      <td>100.4</td>\n",
       "      <td>5.82</td>\n",
       "    </tr>\n",
       "    <tr>\n",
       "      <th>402</th>\n",
       "      <td>Winslow</td>\n",
       "      <td>1</td>\n",
       "      <td>US</td>\n",
       "      <td>1596664998</td>\n",
       "      <td>10</td>\n",
       "      <td>35.02</td>\n",
       "      <td>-110.70</td>\n",
       "      <td>98.6</td>\n",
       "      <td>21.92</td>\n",
       "    </tr>\n",
       "    <tr>\n",
       "      <th>196</th>\n",
       "      <td>Saint George</td>\n",
       "      <td>1</td>\n",
       "      <td>US</td>\n",
       "      <td>1596664666</td>\n",
       "      <td>8</td>\n",
       "      <td>37.10</td>\n",
       "      <td>-113.58</td>\n",
       "      <td>102.0</td>\n",
       "      <td>8.05</td>\n",
       "    </tr>\n",
       "    <tr>\n",
       "      <th>315</th>\n",
       "      <td>Kaeo</td>\n",
       "      <td>100</td>\n",
       "      <td>NZ</td>\n",
       "      <td>1596664890</td>\n",
       "      <td>3</td>\n",
       "      <td>-35.10</td>\n",
       "      <td>173.78</td>\n",
       "      <td>55.0</td>\n",
       "      <td>5.99</td>\n",
       "    </tr>\n",
       "  </tbody>\n",
       "</table>\n",
       "<p>580 rows × 9 columns</p>\n",
       "</div>"
      ],
      "text/plain": [
       "               City  Cloudiness Country        Date  Humidity  Latitude  \\\n",
       "227        Kedrovyy          21      RU  1596664773       100     56.17   \n",
       "411  Howard Springs          20      AU  1596665010       100    -12.50   \n",
       "56        Grindavik          75      IS  1596664537       100     63.84   \n",
       "286        Klaksvík          40      FO  1596664849       100     62.23   \n",
       "350          Banjar          20      ID  1596664934       100     -8.19   \n",
       "..              ...         ...     ...         ...       ...       ...   \n",
       "511           Logan           1      US  1596665108        13     41.74   \n",
       "314  Puerto Palomas          20      MX  1596664889        12     31.77   \n",
       "402         Winslow           1      US  1596664998        10     35.02   \n",
       "196    Saint George           1      US  1596664666         8     37.10   \n",
       "315            Kaeo         100      NZ  1596664890         3    -35.10   \n",
       "\n",
       "     Longitude  Max Temperature  Wind Speed  \n",
       "227      91.82             50.0        2.35  \n",
       "411     131.05             71.6        3.36  \n",
       "56      -22.43             48.2       14.99  \n",
       "286      -6.59             51.8       11.41  \n",
       "350     114.97             75.2        5.82  \n",
       "..         ...              ...         ...  \n",
       "511    -111.83             98.6        8.05  \n",
       "314    -107.62            100.4        5.82  \n",
       "402    -110.70             98.6       21.92  \n",
       "196    -113.58            102.0        8.05  \n",
       "315     173.78             55.0        5.99  \n",
       "\n",
       "[580 rows x 9 columns]"
      ]
     },
     "execution_count": 71,
     "metadata": {},
     "output_type": "execute_result"
    }
   ],
   "source": [
    "\n",
    "city_weather_df.sort_values(by='Humidity', axis=0, ascending=False, inplace=False)"
   ]
  },
  {
   "cell_type": "code",
   "execution_count": 7,
   "metadata": {},
   "outputs": [
    {
     "data": {
      "text/plain": [
       "Int64Index([], dtype='int64')"
      ]
     },
     "execution_count": 7,
     "metadata": {},
     "output_type": "execute_result"
    }
   ],
   "source": [
    "#  Get the indices of cities that have humidity over 100%.\n"
   ]
  },
  {
   "cell_type": "code",
   "execution_count": 8,
   "metadata": {},
   "outputs": [
    {
     "data": {
      "text/html": [
       "<div>\n",
       "<style scoped>\n",
       "    .dataframe tbody tr th:only-of-type {\n",
       "        vertical-align: middle;\n",
       "    }\n",
       "\n",
       "    .dataframe tbody tr th {\n",
       "        vertical-align: top;\n",
       "    }\n",
       "\n",
       "    .dataframe thead th {\n",
       "        text-align: right;\n",
       "    }\n",
       "</style>\n",
       "<table border=\"1\" class=\"dataframe\">\n",
       "  <thead>\n",
       "    <tr style=\"text-align: right;\">\n",
       "      <th></th>\n",
       "      <th>City</th>\n",
       "      <th>Lat</th>\n",
       "      <th>Lng</th>\n",
       "      <th>Max Temp</th>\n",
       "      <th>Humidity</th>\n",
       "      <th>Cloudiness</th>\n",
       "      <th>Wind Speed</th>\n",
       "      <th>Country</th>\n",
       "      <th>Date</th>\n",
       "    </tr>\n",
       "  </thead>\n",
       "  <tbody>\n",
       "    <tr>\n",
       "      <th>0</th>\n",
       "      <td>pimentel</td>\n",
       "      <td>-6.84</td>\n",
       "      <td>-79.93</td>\n",
       "      <td>66.20</td>\n",
       "      <td>29</td>\n",
       "      <td>75</td>\n",
       "      <td>5.82</td>\n",
       "      <td>PE</td>\n",
       "      <td>1585764415</td>\n",
       "    </tr>\n",
       "    <tr>\n",
       "      <th>1</th>\n",
       "      <td>victoria</td>\n",
       "      <td>22.29</td>\n",
       "      <td>114.16</td>\n",
       "      <td>69.01</td>\n",
       "      <td>88</td>\n",
       "      <td>40</td>\n",
       "      <td>18.34</td>\n",
       "      <td>HK</td>\n",
       "      <td>1585764288</td>\n",
       "    </tr>\n",
       "    <tr>\n",
       "      <th>2</th>\n",
       "      <td>padang</td>\n",
       "      <td>-0.95</td>\n",
       "      <td>100.35</td>\n",
       "      <td>79.90</td>\n",
       "      <td>75</td>\n",
       "      <td>99</td>\n",
       "      <td>1.63</td>\n",
       "      <td>ID</td>\n",
       "      <td>1585764115</td>\n",
       "    </tr>\n",
       "    <tr>\n",
       "      <th>3</th>\n",
       "      <td>hasaki</td>\n",
       "      <td>35.73</td>\n",
       "      <td>140.83</td>\n",
       "      <td>55.00</td>\n",
       "      <td>100</td>\n",
       "      <td>75</td>\n",
       "      <td>4.70</td>\n",
       "      <td>JP</td>\n",
       "      <td>1585764415</td>\n",
       "    </tr>\n",
       "    <tr>\n",
       "      <th>4</th>\n",
       "      <td>kahului</td>\n",
       "      <td>20.89</td>\n",
       "      <td>-156.47</td>\n",
       "      <td>70.00</td>\n",
       "      <td>88</td>\n",
       "      <td>1</td>\n",
       "      <td>7.63</td>\n",
       "      <td>US</td>\n",
       "      <td>1585764415</td>\n",
       "    </tr>\n",
       "  </tbody>\n",
       "</table>\n",
       "</div>"
      ],
      "text/plain": [
       "       City    Lat     Lng  Max Temp  Humidity  Cloudiness  Wind Speed  \\\n",
       "0  pimentel  -6.84  -79.93     66.20        29          75        5.82   \n",
       "1  victoria  22.29  114.16     69.01        88          40       18.34   \n",
       "2    padang  -0.95  100.35     79.90        75          99        1.63   \n",
       "3    hasaki  35.73  140.83     55.00       100          75        4.70   \n",
       "4   kahului  20.89 -156.47     70.00        88           1        7.63   \n",
       "\n",
       "  Country        Date  \n",
       "0      PE  1585764415  \n",
       "1      HK  1585764288  \n",
       "2      ID  1585764115  \n",
       "3      JP  1585764415  \n",
       "4      US  1585764415  "
      ]
     },
     "execution_count": 8,
     "metadata": {},
     "output_type": "execute_result"
    }
   ],
   "source": [
    "# Make a new DataFrame equal to the city data to drop all humidity outliers by index.\n",
    "# Passing \"inplace=False\" will make a copy of the city_data DataFrame, which we call \"clean_city_data\".\n"
   ]
  },
  {
   "cell_type": "code",
   "execution_count": 9,
   "metadata": {},
   "outputs": [],
   "source": [
    "# Extract relevant fields from the data frame\n",
    "\n",
    "\n",
    "# Export the City_Data into a csv\n"
   ]
  },
  {
   "cell_type": "markdown",
   "metadata": {},
   "source": [
    "## Plotting the Data\n",
    "* Use proper labeling of the plots using plot titles (including date of analysis) and axes labels.\n",
    "* Save the plotted figures as .pngs."
   ]
  },
  {
   "cell_type": "markdown",
   "metadata": {},
   "source": [
    "## Latitude vs. Temperature Plot"
   ]
  },
  {
   "cell_type": "code",
   "execution_count": 74,
   "metadata": {
    "scrolled": true
   },
   "outputs": [
    {
     "data": {
      "image/png": "[encoded data removed]",
      "text/plain": [
       "<Figure size 432x288 with 1 Axes>"
      ]
     },
     "metadata": {
      "needs_background": "light"
     },
     "output_type": "display_data"
    }
   ],
   "source": [
    "lat_temp_plot = plt.scatter(city_weather_df[\"Latitude\"], \n",
    "                            city_weather_df[\"Max Temperature\"], \n",
    "                            marker = \"o\", \n",
    "                            facecolors = \"blue\", \n",
    "                            edgecolors = \"black\")\n",
    "plt.xlabel(\"Latitude\")\n",
    "plt.ylabel(\"Maximum Temperature (F)\")\n",
    "plt.title(\"City Latitude vs. Max. Temperature (8/5/2020)\")\n",
    "plt.savefig(\"lat_temp_plot.png\")\n",
    "\n",
    "# 0 Lat is the equator. We can see that usually just at and above the equator is hotter than areas below that and above"
   ]
  },
  {
   "cell_type": "markdown",
   "metadata": {},
   "source": [
    "## Latitude vs. Humidity Plot"
   ]
  },
  {
   "cell_type": "code",
   "execution_count": 75,
   "metadata": {},
   "outputs": [
    {
     "data": {
      "image/png": "[encoded data removed]",
      "text/plain": [
       "<Figure size 432x288 with 1 Axes>"
      ]
     },
     "metadata": {
      "needs_background": "light"
     },
     "output_type": "display_data"
    }
   ],
   "source": [
    "lat_hum_plot = plt.scatter(city_weather_df[\"Latitude\"], \n",
    "                            city_weather_df[\"Humidity\"], \n",
    "                            marker = \"o\", \n",
    "                            facecolors = \"c\", \n",
    "                            edgecolors = \"black\")\n",
    "plt.xlabel(\"Latitude\")\n",
    "plt.ylabel(\"Humidity (%)\")\n",
    "plt.title(\"City Latitude vs. Humidity (8/5/2020)\")\n",
    "plt.savefig(\"lat_hum_plot.png\")\n",
    "# I think it's pretty equally spread. Enough that we can see most cities are very humid regardless of latitude. Which few outliers"
   ]
  },
  {
   "cell_type": "markdown",
   "metadata": {},
   "source": [
    "## Latitude vs. Cloudiness Plot"
   ]
  },
  {
   "cell_type": "code",
   "execution_count": 76,
   "metadata": {},
   "outputs": [
    {
     "data": {
      "image/png": "[encoded data removed]",
      "text/plain": [
       "<Figure size 432x288 with 1 Axes>"
      ]
     },
     "metadata": {
      "needs_background": "light"
     },
     "output_type": "display_data"
    }
   ],
   "source": [
    "lat_cloud_plot = plt.scatter(city_weather_df[\"Latitude\"], \n",
    "                            city_weather_df[\"Cloudiness\"], \n",
    "                            marker = \"o\", \n",
    "                            facecolors = \"r\", \n",
    "                            edgecolors = \"black\")\n",
    "plt.xlabel(\"Latitude\")\n",
    "plt.ylabel(\"Cloudiness (%)\")\n",
    "plt.title(\"City Latitude vs. Cloudiness (8/5/2020)\")\n",
    "plt.savefig(\"lat_cloud_plot.png\")\n",
    "\n",
    "#It looks like there is a uniformity because, most points are along 100, 80, 40, 20, 0"
   ]
  },
  {
   "cell_type": "markdown",
   "metadata": {},
   "source": [
    "## Latitude vs. Wind Speed Plot"
   ]
  },
  {
   "cell_type": "code",
   "execution_count": 78,
   "metadata": {},
   "outputs": [
    {
     "data": {
      "image/png": "[encoded data removed]",
      "text/plain": [
       "<Figure size 432x288 with 1 Axes>"
      ]
     },
     "metadata": {
      "needs_background": "light"
     },
     "output_type": "display_data"
    }
   ],
   "source": [
    "lat_wind_plot = plt.scatter(city_weather_df[\"Latitude\"], \n",
    "                            city_weather_df[\"Wind Speed\"], \n",
    "                            marker = \"o\", \n",
    "                            facecolors = \"g\", \n",
    "                            edgecolors = \"black\")\n",
    "plt.xlabel(\"Latitude\")\n",
    "plt.ylabel(\"Wind Speed (mph)\")\n",
    "plt.title(\"City Latitude vs. Wind Speed (8/5/2020)\")\n",
    "plt.savefig(\"lat_speed_plot.png\")\n",
    "#Most are around 0 and 10. They arent that make outliers. Their isnt much correlation "
   ]
  },
  {
   "cell_type": "markdown",
   "metadata": {},
   "source": [
    "## Linear Regression"
   ]
  },
  {
   "cell_type": "code",
   "execution_count": 14,
   "metadata": {},
   "outputs": [],
   "source": [
    "# OPTIONAL: Create a function to create Linear Regression plots"
   ]
  },
  {
   "cell_type": "code",
   "execution_count": 88,
   "metadata": {},
   "outputs": [],
   "source": [
    "# Create Northern and Southern Hemisphere DataFrames\n",
    "northern_hemisphere = city_weather_df.loc[city_weather_df[\"Latitude\"] >= 0]\n",
    "southern_hemisphere = city_weather_df.loc[city_weather_df[\"Latitude\"] < 0]\n",
    "x_values = northern_hemisphere[\"Latitude\"]\n",
    "y_values = northern_hemisphere[\"Max Temperature\"]\n",
    "(slope, intercept, rvalue, pvalue, stderr) = linregress(x_values, y_values)\n",
    "reg_values = x_values * slope + intercept\n",
    "line_eq = \"y = \" + str(round(slope, 2)) + \"x + \" + str(round(intercept, 2))"
   ]
  },
  {
   "cell_type": "markdown",
   "metadata": {},
   "source": [
    "####  Northern Hemisphere - Max Temp vs. Latitude Linear Regression"
   ]
  },
  {
   "cell_type": "code",
   "execution_count": 91,
   "metadata": {},
   "outputs": [
    {
     "data": {
      "text/plain": [
       "Text(0.5, 1.0, 'Northern Hemisphere - Max Temp vs. Latitude Linear Regression (8/5/2020)')"
      ]
     },
     "execution_count": 91,
     "metadata": {},
     "output_type": "execute_result"
    },
    {
     "data": {
      "image/png": "[encoded data removed]",
      "text/plain": [
       "<Figure size 432x288 with 1 Axes>"
      ]
     },
     "metadata": {
      "needs_background": "light"
     },
     "output_type": "display_data"
    }
   ],
   "source": [
    "plt.scatter(x_values, y_values)\n",
    "plt.plot(x_values, reg_values, \"r-\")\n",
    "plt.annotate(line_eq, (5, 245), fontsize = 15, color = \"red\")\n",
    "plt.xlabel(\"Latitude\")\n",
    "plt.ylabel(\"Max. Temp\")\n",
    "plt.title(\"Northern Hemisphere - Max Temp vs. Latitude Linear Regression (8/5/2020)\")"
   ]
  },
  {
   "cell_type": "markdown",
   "metadata": {},
   "source": [
    "####  Southern Hemisphere - Max Temp vs. Latitude Linear Regression"
   ]
  },
  {
   "cell_type": "code",
   "execution_count": 17,
   "metadata": {},
   "outputs": [
    {
     "name": "stdout",
     "output_type": "stream",
     "text": [
      "The r-squared is: 0.39936284758885965\n"
     ]
    },
    {
     "data": {
      "image/png": "[encoded data removed]",
      "text/plain": [
       "<Figure size 432x288 with 1 Axes>"
      ]
     },
     "metadata": {
      "needs_background": "light"
     },
     "output_type": "display_data"
    }
   ],
   "source": []
  },
  {
   "cell_type": "markdown",
   "metadata": {},
   "source": [
    "####  Northern Hemisphere - Humidity (%) vs. Latitude Linear Regression"
   ]
  },
  {
   "cell_type": "code",
   "execution_count": 18,
   "metadata": {},
   "outputs": [
    {
     "name": "stdout",
     "output_type": "stream",
     "text": [
      "The r-squared is: 0.10829462153873139\n"
     ]
    },
    {
     "data": {
      "image/png": "[encoded data removed]",
      "text/plain": [
       "<Figure size 432x288 with 1 Axes>"
      ]
     },
     "metadata": {
      "needs_background": "light"
     },
     "output_type": "display_data"
    }
   ],
   "source": []
  },
  {
   "cell_type": "markdown",
   "metadata": {},
   "source": [
    "####  Southern Hemisphere - Humidity (%) vs. Latitude Linear Regression"
   ]
  },
  {
   "cell_type": "code",
   "execution_count": 19,
   "metadata": {},
   "outputs": [
    {
     "name": "stdout",
     "output_type": "stream",
     "text": [
      "The r-squared is: 0.0008996079328825663\n"
     ]
    },
    {
     "data": {
      "image/png": "[encoded data removed]",
      "text/plain": [
       "<Figure size 432x288 with 1 Axes>"
      ]
     },
     "metadata": {
      "needs_background": "light"
     },
     "output_type": "display_data"
    }
   ],
   "source": []
  },
  {
   "cell_type": "markdown",
   "metadata": {},
   "source": [
    "####  Northern Hemisphere - Cloudiness (%) vs. Latitude Linear Regression"
   ]
  },
  {
   "cell_type": "code",
   "execution_count": 20,
   "metadata": {},
   "outputs": [
    {
     "name": "stdout",
     "output_type": "stream",
     "text": [
      "The r-squared is: 0.05768812657005063\n"
     ]
    },
    {
     "data": {
      "image/png": "[encoded data removed]",
      "text/plain": [
       "<Figure size 432x288 with 1 Axes>"
      ]
     },
     "metadata": {
      "needs_background": "light"
     },
     "output_type": "display_data"
    }
   ],
   "source": []
  },
  {
   "cell_type": "markdown",
   "metadata": {},
   "source": [
    "####  Southern Hemisphere - Cloudiness (%) vs. Latitude Linear Regression"
   ]
  },
  {
   "cell_type": "code",
   "execution_count": 21,
   "metadata": {},
   "outputs": [
    {
     "name": "stdout",
     "output_type": "stream",
     "text": [
      "The r-squared is: 0.0684912094859049\n"
     ]
    },
    {
     "data": {
      "image/png": "[encoded data removed]",
      "text/plain": [
       "<Figure size 432x288 with 1 Axes>"
      ]
     },
     "metadata": {
      "needs_background": "light"
     },
     "output_type": "display_data"
    }
   ],
   "source": []
  },
  {
   "cell_type": "markdown",
   "metadata": {},
   "source": [
    "####  Northern Hemisphere - Wind Speed (mph) vs. Latitude Linear Regression"
   ]
  },
  {
   "cell_type": "code",
   "execution_count": 22,
   "metadata": {},
   "outputs": [
    {
     "name": "stdout",
     "output_type": "stream",
     "text": [
      "The r-squared is: 0.023371104533850804\n"
     ]
    },
    {
     "data": {
      "image/png": "[encoded data removed]",
      "text/plain": [
       "<Figure size 432x288 with 1 Axes>"
      ]
     },
     "metadata": {
      "needs_background": "light"
     },
     "output_type": "display_data"
    }
   ],
   "source": []
  },
  {
   "cell_type": "markdown",
   "metadata": {},
   "source": [
    "####  Southern Hemisphere - Wind Speed (mph) vs. Latitude Linear Regression"
   ]
  },
  {
   "cell_type": "code",
   "execution_count": 23,
   "metadata": {},
   "outputs": [
    {
     "name": "stdout",
     "output_type": "stream",
     "text": [
      "The r-squared is: 0.03381889207758188\n"
     ]
    },
    {
     "data": {
      "image/png": "[encoded data removed]",
      "text/plain": [
       "<Figure size 432x288 with 1 Axes>"
      ]
     },
     "metadata": {
      "needs_background": "light"
     },
     "output_type": "display_data"
    }
   ],
   "source": []
  },
  {
   "cell_type": "code",
   "execution_count": null,
   "metadata": {},
   "outputs": [],
   "source": []
  }
 ],
 "metadata": {
  "anaconda-cloud": {},
  "kernel_info": {
   "name": "python3"
  },
  "kernelspec": {
   "display_name": "Python 3",
   "language": "python",
   "name": "python3"
  },
  "language_info": {
   "codemirror_mode": {
    "name": "ipython",
    "version": 3
   },
   "file_extension": ".py",
   "mimetype": "text/x-python",
   "name": "python",
   "nbconvert_exporter": "python",
   "pygments_lexer": "ipython3",
   "version": "3.6.10"
  },
  "latex_envs": {
   "LaTeX_envs_menu_present": true,
   "autoclose": false,
   "autocomplete": true,
   "bibliofile": "biblio.bib",
   "cite_by": "apalike",
   "current_citInitial": 1,
   "eqLabelWithNumbers": true,
   "eqNumInitial": 1,
   "hotkeys": {
    "equation": "Ctrl-E",
    "itemize": "Ctrl-I"
   },
   "labels_anchors": false,
   "latex_user_defs": false,
   "report_style_numbering": false,
   "user_envs_cfg": false
  },
  "nteract": {
   "version": "0.12.3"
  }
 },
 "nbformat": 4,
 "nbformat_minor": 2
}
